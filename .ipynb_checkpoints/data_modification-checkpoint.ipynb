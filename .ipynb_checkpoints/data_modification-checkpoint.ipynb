{
 "cells": [
  {
   "cell_type": "code",
   "execution_count": 1,
   "id": "8bd4417f",
   "metadata": {},
   "outputs": [
    {
     "name": "stderr",
     "output_type": "stream",
     "text": [
      "C:\\Users\\Ranti\\ranti_anaconda3\\lib\\site-packages\\IPython\\core\\interactiveshell.py:3165: DtypeWarning: Columns (1,10) have mixed types.Specify dtype option on import or set low_memory=False.\n",
      "  has_raised = await self.run_ast_nodes(code_ast.body, cell_name,\n"
     ]
    }
   ],
   "source": [
    "import pandas as pd\n",
    "import numpy as np\n",
    "np.random.seed(10)\n",
    "\n",
    "df=pd.read_csv(\"1429_1.csv\")\n",
    "\n"
   ]
  },
  {
   "cell_type": "code",
   "execution_count": 2,
   "id": "1d649ccf",
   "metadata": {},
   "outputs": [],
   "source": [
    "df=df[[\"reviews.text\",\"reviews.doRecommend\"]]"
   ]
  },
  {
   "cell_type": "code",
   "execution_count": 3,
   "id": "06c110c3",
   "metadata": {},
   "outputs": [
    {
     "data": {
      "text/html": [
       "<div>\n",
       "<style scoped>\n",
       "    .dataframe tbody tr th:only-of-type {\n",
       "        vertical-align: middle;\n",
       "    }\n",
       "\n",
       "    .dataframe tbody tr th {\n",
       "        vertical-align: top;\n",
       "    }\n",
       "\n",
       "    .dataframe thead th {\n",
       "        text-align: right;\n",
       "    }\n",
       "</style>\n",
       "<table border=\"1\" class=\"dataframe\">\n",
       "  <thead>\n",
       "    <tr style=\"text-align: right;\">\n",
       "      <th></th>\n",
       "      <th>reviews.text</th>\n",
       "      <th>reviews.doRecommend</th>\n",
       "    </tr>\n",
       "  </thead>\n",
       "  <tbody>\n",
       "    <tr>\n",
       "      <th>0</th>\n",
       "      <td>This product so far has not disappointed. My c...</td>\n",
       "      <td>True</td>\n",
       "    </tr>\n",
       "    <tr>\n",
       "      <th>1</th>\n",
       "      <td>great for beginner or experienced person. Boug...</td>\n",
       "      <td>True</td>\n",
       "    </tr>\n",
       "    <tr>\n",
       "      <th>2</th>\n",
       "      <td>Inexpensive tablet for him to use and learn on...</td>\n",
       "      <td>True</td>\n",
       "    </tr>\n",
       "    <tr>\n",
       "      <th>3</th>\n",
       "      <td>I've had my Fire HD 8 two weeks now and I love...</td>\n",
       "      <td>True</td>\n",
       "    </tr>\n",
       "    <tr>\n",
       "      <th>4</th>\n",
       "      <td>I bought this for my grand daughter when she c...</td>\n",
       "      <td>True</td>\n",
       "    </tr>\n",
       "  </tbody>\n",
       "</table>\n",
       "</div>"
      ],
      "text/plain": [
       "                                        reviews.text reviews.doRecommend\n",
       "0  This product so far has not disappointed. My c...                True\n",
       "1  great for beginner or experienced person. Boug...                True\n",
       "2  Inexpensive tablet for him to use and learn on...                True\n",
       "3  I've had my Fire HD 8 two weeks now and I love...                True\n",
       "4  I bought this for my grand daughter when she c...                True"
      ]
     },
     "execution_count": 3,
     "metadata": {},
     "output_type": "execute_result"
    }
   ],
   "source": [
    "df=df.dropna()\n",
    "df.head()"
   ]
  },
  {
   "cell_type": "code",
   "execution_count": 4,
   "id": "85a57d6d",
   "metadata": {},
   "outputs": [
    {
     "data": {
      "text/plain": [
       "(34066, 2)"
      ]
     },
     "execution_count": 4,
     "metadata": {},
     "output_type": "execute_result"
    }
   ],
   "source": [
    "df.shape"
   ]
  },
  {
   "cell_type": "code",
   "execution_count": 5,
   "id": "c8082d7a",
   "metadata": {},
   "outputs": [],
   "source": [
    "df_true=df[df[\"reviews.doRecommend\"]==True]\n",
    "df_false=df[df[\"reviews.doRecommend\"]==False]"
   ]
  },
  {
   "cell_type": "code",
   "execution_count": 6,
   "id": "ab6c311e",
   "metadata": {},
   "outputs": [
    {
     "name": "stdout",
     "output_type": "stream",
     "text": [
      "(32682, 2)\n",
      "(1384, 2)\n"
     ]
    }
   ],
   "source": [
    "print(df_true.shape)\n",
    "print(df_false.shape)"
   ]
  },
  {
   "cell_type": "code",
   "execution_count": 7,
   "id": "aac7bd8a",
   "metadata": {},
   "outputs": [],
   "source": [
    "remove_n = 35000\n",
    "\n",
    "drop_indices = np.random.choice(df_true.index, remove_n, replace=True)\n",
    "df_true= df_true.drop(drop_indices)\n",
    "\n",
    "frames = [df_true, df_false]\n",
    "\n",
    "result = pd.concat(frames)\n",
    "\n",
    "result= result.sample(frac=1).reset_index(drop=True)"
   ]
  },
  {
   "cell_type": "code",
   "execution_count": 8,
   "id": "f9548ee9",
   "metadata": {},
   "outputs": [
    {
     "data": {
      "text/plain": [
       "(12554, 2)"
      ]
     },
     "execution_count": 8,
     "metadata": {},
     "output_type": "execute_result"
    }
   ],
   "source": [
    "result.shape"
   ]
  },
  {
   "cell_type": "code",
   "execution_count": 10,
   "id": "cf2ab879",
   "metadata": {},
   "outputs": [],
   "source": [
    "result.to_csv('modified_data.csv')"
   ]
  },
  {
   "cell_type": "code",
   "execution_count": null,
   "id": "90b8ab2e",
   "metadata": {},
   "outputs": [],
   "source": []
  }
 ],
 "metadata": {
  "kernelspec": {
   "display_name": "Python 3",
   "language": "python",
   "name": "python3"
  },
  "language_info": {
   "codemirror_mode": {
    "name": "ipython",
    "version": 3
   },
   "file_extension": ".py",
   "mimetype": "text/x-python",
   "name": "python",
   "nbconvert_exporter": "python",
   "pygments_lexer": "ipython3",
   "version": "3.8.8"
  }
 },
 "nbformat": 4,
 "nbformat_minor": 5
}
