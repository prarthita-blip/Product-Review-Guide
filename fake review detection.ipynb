{
 "cells": [
  {
   "cell_type": "code",
   "execution_count": 1,
   "id": "b1f458b5",
   "metadata": {},
   "outputs": [],
   "source": [
    "import pandas as pd\n",
    "import numpy as np\n",
    "import warnings\n",
    "warnings.filterwarnings('ignore') "
   ]
  },
  {
   "cell_type": "code",
   "execution_count": 2,
   "id": "af4807c7",
   "metadata": {},
   "outputs": [
    {
     "data": {
      "text/html": [
       "<div>\n",
       "<style scoped>\n",
       "    .dataframe tbody tr th:only-of-type {\n",
       "        vertical-align: middle;\n",
       "    }\n",
       "\n",
       "    .dataframe tbody tr th {\n",
       "        vertical-align: top;\n",
       "    }\n",
       "\n",
       "    .dataframe thead th {\n",
       "        text-align: right;\n",
       "    }\n",
       "</style>\n",
       "<table border=\"1\" class=\"dataframe\">\n",
       "  <thead>\n",
       "    <tr style=\"text-align: right;\">\n",
       "      <th></th>\n",
       "      <th>Unnamed: 0</th>\n",
       "      <th>reviews.text</th>\n",
       "      <th>reviews.doRecommend</th>\n",
       "    </tr>\n",
       "  </thead>\n",
       "  <tbody>\n",
       "    <tr>\n",
       "      <th>0</th>\n",
       "      <td>0</td>\n",
       "      <td>This product is fast a stylish. Good battery l...</td>\n",
       "      <td>True</td>\n",
       "    </tr>\n",
       "    <tr>\n",
       "      <th>1</th>\n",
       "      <td>1</td>\n",
       "      <td>Previous owner of an older kindle. Love the to...</td>\n",
       "      <td>True</td>\n",
       "    </tr>\n",
       "    <tr>\n",
       "      <th>2</th>\n",
       "      <td>2</td>\n",
       "      <td>Super Slow, Would not download, Returned after...</td>\n",
       "      <td>False</td>\n",
       "    </tr>\n",
       "    <tr>\n",
       "      <th>3</th>\n",
       "      <td>3</td>\n",
       "      <td>Gave as a Christmas gift. Don't know how good ...</td>\n",
       "      <td>False</td>\n",
       "    </tr>\n",
       "    <tr>\n",
       "      <th>4</th>\n",
       "      <td>4</td>\n",
       "      <td>I LOVE THIS ECHO AND ITS HANDS FREE. LOUD SPEA...</td>\n",
       "      <td>True</td>\n",
       "    </tr>\n",
       "  </tbody>\n",
       "</table>\n",
       "</div>"
      ],
      "text/plain": [
       "   Unnamed: 0                                       reviews.text  \\\n",
       "0           0  This product is fast a stylish. Good battery l...   \n",
       "1           1  Previous owner of an older kindle. Love the to...   \n",
       "2           2  Super Slow, Would not download, Returned after...   \n",
       "3           3  Gave as a Christmas gift. Don't know how good ...   \n",
       "4           4  I LOVE THIS ECHO AND ITS HANDS FREE. LOUD SPEA...   \n",
       "\n",
       "   reviews.doRecommend  \n",
       "0                 True  \n",
       "1                 True  \n",
       "2                False  \n",
       "3                False  \n",
       "4                 True  "
      ]
     },
     "execution_count": 2,
     "metadata": {},
     "output_type": "execute_result"
    }
   ],
   "source": [
    "data=pd.read_csv(\"modified_data.csv\")\n",
    "data.head(5)"
   ]
  },
  {
   "cell_type": "code",
   "execution_count": 3,
   "id": "1449d37d",
   "metadata": {},
   "outputs": [
    {
     "data": {
      "text/plain": [
       "0            0\n",
       "1            1\n",
       "2            2\n",
       "3            3\n",
       "4            4\n",
       "         ...  \n",
       "10944    10944\n",
       "10945    10945\n",
       "10946    10946\n",
       "10947    10947\n",
       "10948    10948\n",
       "Name: Unnamed: 0, Length: 10949, dtype: int64"
      ]
     },
     "execution_count": 3,
     "metadata": {},
     "output_type": "execute_result"
    }
   ],
   "source": [
    "data.pop(\"Unnamed: 0\")"
   ]
  },
  {
   "cell_type": "markdown",
   "id": "5631aea6",
   "metadata": {},
   "source": [
    "# Preparing DataSet"
   ]
  },
  {
   "cell_type": "code",
   "execution_count": 4,
   "id": "a4a1cdb7",
   "metadata": {},
   "outputs": [
    {
     "data": {
      "text/plain": [
       "True     9565\n",
       "False    1384\n",
       "Name: reviews.doRecommend, dtype: int64"
      ]
     },
     "execution_count": 4,
     "metadata": {},
     "output_type": "execute_result"
    }
   ],
   "source": [
    "data[\"reviews.doRecommend\"].value_counts()"
   ]
  },
  {
   "cell_type": "code",
   "execution_count": 5,
   "id": "60c41e7c",
   "metadata": {},
   "outputs": [],
   "source": [
    "def fake(dorecommend):\n",
    "    if dorecommend==True:\n",
    "        return 0\n",
    "    else:\n",
    "        return 1"
   ]
  },
  {
   "cell_type": "code",
   "execution_count": 6,
   "id": "9ae76bf2",
   "metadata": {},
   "outputs": [],
   "source": [
    "x=data[\"reviews.text\"]\n",
    "y=data[\"reviews.doRecommend\"].apply(fake)"
   ]
  },
  {
   "cell_type": "code",
   "execution_count": 7,
   "id": "587b6bb9",
   "metadata": {},
   "outputs": [
    {
     "data": {
      "text/plain": [
       "0    9565\n",
       "1    1384\n",
       "Name: reviews.doRecommend, dtype: int64"
      ]
     },
     "execution_count": 7,
     "metadata": {},
     "output_type": "execute_result"
    }
   ],
   "source": [
    "y.value_counts()"
   ]
  },
  {
   "cell_type": "markdown",
   "id": "521d6158",
   "metadata": {},
   "source": [
    "# Preparing Training and Test data"
   ]
  },
  {
   "cell_type": "code",
   "execution_count": 8,
   "id": "9c3db3ac",
   "metadata": {},
   "outputs": [],
   "source": [
    "from sklearn.model_selection import train_test_split\n",
    "x_train,x_test,y_train,y_test = train_test_split(x,y,test_size = 0.4,random_state = 0)"
   ]
  },
  {
   "cell_type": "markdown",
   "id": "219342ac",
   "metadata": {},
   "source": [
    "# Feature Extraction of Text"
   ]
  },
  {
   "cell_type": "code",
   "execution_count": 9,
   "id": "badd1343",
   "metadata": {},
   "outputs": [
    {
     "name": "stderr",
     "output_type": "stream",
     "text": [
      "[nltk_data] Downloading package stopwords to\n",
      "[nltk_data]     C:\\Users\\Ranti\\AppData\\Roaming\\nltk_data...\n",
      "[nltk_data]   Package stopwords is already up-to-date!\n"
     ]
    }
   ],
   "source": [
    "import nltk\n",
    "import string\n",
    "from nltk.corpus import stopwords\n",
    "\n",
    "nltk.download('stopwords') \n",
    "\n",
    "def remove_punctuation_marks(text) :\n",
    "    punctuation_marks = dict((ord(punctuation_mark), None) for punctuation_mark in string.punctuation)\n",
    "    return text.translate(punctuation_marks)\n",
    "\n",
    "def get_lemmatized_tokens(text) :\n",
    "    normalized_tokens = nltk.word_tokenize(remove_punctuation_marks(text.lower()))\n",
    "    return [nltk.stem.WordNetLemmatizer().lemmatize(normalized_token) for normalized_token in normalized_tokens]\n",
    "    \n"
   ]
  },
  {
   "cell_type": "code",
   "execution_count": 10,
   "id": "c7499082",
   "metadata": {},
   "outputs": [
    {
     "data": {
      "text/plain": [
       "(6569, 7123)"
      ]
     },
     "execution_count": 10,
     "metadata": {},
     "output_type": "execute_result"
    }
   ],
   "source": [
    "from sklearn.feature_extraction.text import TfidfVectorizer\n",
    "tfidf_transformer = TfidfVectorizer(tokenizer = get_lemmatized_tokens, lowercase=True, stop_words = stopwords.words('english'))\n",
    "x_train_tfidf = tfidf_transformer.fit_transform(x_train)\n",
    "x_train_tfidf.shape"
   ]
  },
  {
   "cell_type": "markdown",
   "id": "e81d8945",
   "metadata": {},
   "source": [
    "# Classification"
   ]
  },
  {
   "cell_type": "code",
   "execution_count": 11,
   "id": "54db2948",
   "metadata": {},
   "outputs": [],
   "source": [
    "from sklearn.metrics import classification_report\n",
    "from sklearn.pipeline import Pipeline"
   ]
  },
  {
   "cell_type": "markdown",
   "id": "2ac06f8e",
   "metadata": {},
   "source": [
    "# MultinomialNB"
   ]
  },
  {
   "cell_type": "code",
   "execution_count": 12,
   "id": "ef909a57",
   "metadata": {},
   "outputs": [
    {
     "data": {
      "text/plain": [
       "Pipeline(steps=[('tfidf',\n",
       "                 TfidfVectorizer(stop_words=['i', 'me', 'my', 'myself', 'we',\n",
       "                                             'our', 'ours', 'ourselves', 'you',\n",
       "                                             \"you're\", \"you've\", \"you'll\",\n",
       "                                             \"you'd\", 'your', 'yours',\n",
       "                                             'yourself', 'yourselves', 'he',\n",
       "                                             'him', 'his', 'himself', 'she',\n",
       "                                             \"she's\", 'her', 'hers', 'herself',\n",
       "                                             'it', \"it's\", 'its', 'itself', ...],\n",
       "                                 tokenizer=<function get_lemmatized_tokens at 0x000000000BBFB4C0>)),\n",
       "                ('clf_nominalNB', MultinomialNB())])"
      ]
     },
     "execution_count": 12,
     "metadata": {},
     "output_type": "execute_result"
    }
   ],
   "source": [
    "from sklearn.naive_bayes import MultinomialNB \n",
    "tfidf_multiNB_pipe = Pipeline([ \n",
    "                             (\"tfidf\", tfidf_transformer),\n",
    "                             (\"clf_nominalNB\", MultinomialNB())])\n",
    "tfidf_multiNB_pipe.fit(x_train, y_train)"
   ]
  },
  {
   "cell_type": "code",
   "execution_count": 13,
   "id": "b2b6a4e0",
   "metadata": {},
   "outputs": [
    {
     "data": {
      "text/plain": [
       "0.8778538812785388"
      ]
     },
     "execution_count": 13,
     "metadata": {},
     "output_type": "execute_result"
    }
   ],
   "source": [
    "import numpy as np\n",
    "prediction = tfidf_multiNB_pipe.predict(x_test)\n",
    "np.mean(prediction == y_test)"
   ]
  },
  {
   "cell_type": "code",
   "execution_count": 14,
   "id": "f66b88cb",
   "metadata": {},
   "outputs": [
    {
     "name": "stdout",
     "output_type": "stream",
     "text": [
      "              precision    recall  f1-score   support\n",
      "\n",
      "           0       0.88      1.00      0.93      3843\n",
      "           1       0.75      0.01      0.01       537\n",
      "\n",
      "    accuracy                           0.88      4380\n",
      "   macro avg       0.81      0.50      0.47      4380\n",
      "weighted avg       0.86      0.88      0.82      4380\n",
      "\n"
     ]
    }
   ],
   "source": [
    "print(classification_report(y_test, \n",
    "                            prediction))"
   ]
  },
  {
   "cell_type": "code",
   "execution_count": 15,
   "id": "7635ee2a",
   "metadata": {},
   "outputs": [
    {
     "data": {
      "text/plain": [
       "0    4376\n",
       "1       4\n",
       "dtype: int64"
      ]
     },
     "execution_count": 15,
     "metadata": {},
     "output_type": "execute_result"
    }
   ],
   "source": [
    "pd.DataFrame(prediction).value_counts()"
   ]
  },
  {
   "cell_type": "markdown",
   "id": "80e8d486",
   "metadata": {},
   "source": [
    "# Linear SVC"
   ]
  },
  {
   "cell_type": "code",
   "execution_count": 16,
   "id": "3f973ef3",
   "metadata": {},
   "outputs": [
    {
     "data": {
      "text/plain": [
       "0.9031963470319635"
      ]
     },
     "execution_count": 16,
     "metadata": {},
     "output_type": "execute_result"
    }
   ],
   "source": [
    "from sklearn.svm import LinearSVC\n",
    "\n",
    "clf_svm_pipe = Pipeline([(\"vect\", tfidf_transformer), \n",
    "                            (\"clf_svc\", LinearSVC())])\n",
    "clf_svm_pipe.fit(x_train, y_train)\n",
    "                            \n",
    "prediction=clf_svm_pipe.predict(x_test)                 \n",
    "np.mean(prediction == y_test)"
   ]
  },
  {
   "cell_type": "code",
   "execution_count": 17,
   "id": "a8ad2e8d",
   "metadata": {},
   "outputs": [
    {
     "name": "stdout",
     "output_type": "stream",
     "text": [
      "              precision    recall  f1-score   support\n",
      "\n",
      "           0       0.92      0.97      0.95      3843\n",
      "           1       0.66      0.42      0.52       537\n",
      "\n",
      "    accuracy                           0.90      4380\n",
      "   macro avg       0.79      0.70      0.73      4380\n",
      "weighted avg       0.89      0.90      0.89      4380\n",
      "\n"
     ]
    }
   ],
   "source": [
    "print(classification_report(y_test, \n",
    "                            prediction))"
   ]
  },
  {
   "cell_type": "code",
   "execution_count": 18,
   "id": "86ba5d16",
   "metadata": {},
   "outputs": [
    {
     "data": {
      "text/plain": [
       "0    4037\n",
       "1     343\n",
       "dtype: int64"
      ]
     },
     "execution_count": 18,
     "metadata": {},
     "output_type": "execute_result"
    }
   ],
   "source": [
    "pd.DataFrame(prediction).value_counts()"
   ]
  },
  {
   "cell_type": "markdown",
   "id": "f7ffd665",
   "metadata": {},
   "source": [
    "# Logistic Regression"
   ]
  },
  {
   "cell_type": "code",
   "execution_count": 19,
   "id": "fff5782e",
   "metadata": {},
   "outputs": [
    {
     "data": {
      "text/plain": [
       "0.897945205479452"
      ]
     },
     "execution_count": 19,
     "metadata": {},
     "output_type": "execute_result"
    }
   ],
   "source": [
    "from sklearn.linear_model import LogisticRegression\n",
    "\n",
    "clf_logReg_pipe = Pipeline([(\"vect\", tfidf_transformer), \n",
    "                            (\"clf_logReg\", LogisticRegression())])\n",
    "clf_logReg_pipe.fit(x_train, y_train)\n",
    "                            \n",
    "prediction=clf_logReg_pipe.predict(x_test)                 \n",
    "np.mean(prediction == y_test)"
   ]
  },
  {
   "cell_type": "code",
   "execution_count": 20,
   "id": "9435671c",
   "metadata": {},
   "outputs": [
    {
     "name": "stdout",
     "output_type": "stream",
     "text": [
      "              precision    recall  f1-score   support\n",
      "\n",
      "           0       0.90      0.99      0.94      3843\n",
      "           1       0.82      0.22      0.34       537\n",
      "\n",
      "    accuracy                           0.90      4380\n",
      "   macro avg       0.86      0.60      0.64      4380\n",
      "weighted avg       0.89      0.90      0.87      4380\n",
      "\n"
     ]
    }
   ],
   "source": [
    "print(classification_report(y_test, \n",
    "                            prediction))"
   ]
  },
  {
   "cell_type": "code",
   "execution_count": 21,
   "id": "9dd735f7",
   "metadata": {},
   "outputs": [
    {
     "data": {
      "text/plain": [
       "0    4238\n",
       "1     142\n",
       "dtype: int64"
      ]
     },
     "execution_count": 21,
     "metadata": {},
     "output_type": "execute_result"
    }
   ],
   "source": [
    "pd.DataFrame(prediction).value_counts()"
   ]
  },
  {
   "cell_type": "markdown",
   "id": "ed82ab60",
   "metadata": {},
   "source": [
    "# Decision Tree Classifier"
   ]
  },
  {
   "cell_type": "code",
   "execution_count": null,
   "id": "27d3bc9b",
   "metadata": {},
   "outputs": [],
   "source": [
    "from sklearn.tree import DecisionTreeClassifier \n",
    "clf_decision_pipe = Pipeline([(\"vect\", tfidf_transformer), \n",
    "                            (\"clf_dec\", DecisionTreeClassifier())])\n",
    "clf_decision_pipe.fit(x_train, y_train)\n",
    "                            \n",
    "prediction=clf_decision_pipe.predict(x_test)                 \n",
    "np.mean(prediction == y_test)"
   ]
  },
  {
   "cell_type": "code",
   "execution_count": null,
   "id": "9773c1c7",
   "metadata": {},
   "outputs": [],
   "source": [
    "print(classification_report(y_test, \n",
    "                            prediction))"
   ]
  },
  {
   "cell_type": "code",
   "execution_count": null,
   "id": "bbbae21a",
   "metadata": {},
   "outputs": [],
   "source": [
    "pd.DataFrame(prediction).value_counts()"
   ]
  },
  {
   "cell_type": "markdown",
   "id": "29d0554b",
   "metadata": {},
   "source": [
    "# Random Forest Classifier"
   ]
  },
  {
   "cell_type": "code",
   "execution_count": null,
   "id": "55bcd48d",
   "metadata": {},
   "outputs": [],
   "source": [
    "from sklearn.ensemble import RandomForestClassifier\n",
    "\n",
    "clf_random_pipe = Pipeline([(\"vect\", tfidf_transformer), \n",
    "                            (\"clf_ran\", RandomForestClassifier())])\n",
    "clf_random_pipe.fit(x_train, y_train)\n",
    "                            \n",
    "prediction=clf_random_pipe.predict(x_test)                 \n",
    "np.mean(prediction == y_test)"
   ]
  },
  {
   "cell_type": "code",
   "execution_count": null,
   "id": "6427c37e",
   "metadata": {},
   "outputs": [],
   "source": [
    "print(classification_report(y_test, \n",
    "                            prediction))"
   ]
  },
  {
   "cell_type": "code",
   "execution_count": null,
   "id": "643cd468",
   "metadata": {},
   "outputs": [],
   "source": [
    "pd.DataFrame(prediction).value_counts()"
   ]
  },
  {
   "cell_type": "markdown",
   "id": "e41a915c",
   "metadata": {},
   "source": [
    "# Final Model"
   ]
  },
  {
   "cell_type": "code",
   "execution_count": null,
   "id": "30686abd",
   "metadata": {},
   "outputs": [],
   "source": [
    "model = Pipeline([(\"vect\", tfidf_transformer), \n",
    "                            (\"clf_dec\", DecisionTreeClassifier())])\n",
    "model.fit(x_train, y_train)"
   ]
  },
  {
   "cell_type": "code",
   "execution_count": null,
   "id": "7f49e8f1",
   "metadata": {},
   "outputs": [],
   "source": [
    "import joblib"
   ]
  },
  {
   "cell_type": "code",
   "execution_count": null,
   "id": "902ee1ad",
   "metadata": {},
   "outputs": [],
   "source": [
    "joblib.dump(model, \"fake.pkl\")"
   ]
  },
  {
   "cell_type": "code",
   "execution_count": null,
   "id": "5d443f3f",
   "metadata": {},
   "outputs": [],
   "source": []
  }
 ],
 "metadata": {
  "kernelspec": {
   "display_name": "Python 3",
   "language": "python",
   "name": "python3"
  },
  "language_info": {
   "codemirror_mode": {
    "name": "ipython",
    "version": 3
   },
   "file_extension": ".py",
   "mimetype": "text/x-python",
   "name": "python",
   "nbconvert_exporter": "python",
   "pygments_lexer": "ipython3",
   "version": "3.8.8"
  }
 },
 "nbformat": 4,
 "nbformat_minor": 5
}
