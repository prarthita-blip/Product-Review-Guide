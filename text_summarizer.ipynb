{
 "cells": [
  {
   "cell_type": "code",
   "execution_count": 1,
   "metadata": {},
   "outputs": [
    {
     "name": "stderr",
     "output_type": "stream",
     "text": [
      "[nltk_data] Downloading package stopwords to\n",
      "[nltk_data]     C:\\Users\\Ranti\\AppData\\Roaming\\nltk_data...\n",
      "[nltk_data]   Package stopwords is already up-to-date!\n"
     ]
    },
    {
     "name": "stdout",
     "output_type": "stream",
     "text": [
      "Very bad product, not go for it very bad video quality, and before this phone ihave applied for replace but this time they delivered me refurbished phone having no sim ejecting tool and I will suggest you don't buy any product from amazon , from experience of online shopping with Flipkart this time I tried amazon but I am very disappointed this time . Very bad\n",
      " Very bad\n"
     ]
    }
   ],
   "source": [
    "import nltk\n",
    "import random\n",
    "from sklearn.feature_extraction.text import TfidfVectorizer\n",
    "import string\n",
    "import warnings\n",
    "from nltk.corpus import stopwords\n",
    "\n",
    "nltk.download('stopwords') \n",
    "\n",
    "HANDICAP = 0.85\n",
    "\n",
    "def remove_punctuation_marks(text) :\n",
    "    punctuation_marks = dict((ord(punctuation_mark), None) for punctuation_mark in string.punctuation)\n",
    "    return text.translate(punctuation_marks)\n",
    "\n",
    "def get_lemmatized_tokens(text) :\n",
    "    normalized_tokens = nltk.word_tokenize(remove_punctuation_marks(text.lower()))\n",
    "    return [nltk.stem.WordNetLemmatizer().lemmatize(normalized_token) for normalized_token in normalized_tokens]\n",
    "\n",
    "def get_average(values) :\n",
    "    greater_than_zero_count = total = 0\n",
    "    for value in values :\n",
    "        if value != 0 :\n",
    "            greater_than_zero_count += 1\n",
    "            total += value \n",
    "    return total / greater_than_zero_count\n",
    "\n",
    "def get_threshold(tfidf_results) :\n",
    "    i = total = 0\n",
    "    while i < (tfidf_results.shape[0]) :\n",
    "        total += get_average(tfidf_results[i, :].toarray()[0])\n",
    "        i += 1\n",
    "    return total / tfidf_results.shape[0]\n",
    "\n",
    "def get_summary(text) :\n",
    "    documents = nltk.sent_tokenize(text)\n",
    "    tfidf_results = TfidfVectorizer(tokenizer = get_lemmatized_tokens, stop_words = stopwords.words('english')).fit_transform(documents)\n",
    "    summary = \"\"\n",
    "    i = 0\n",
    "    while i < (tfidf_results.shape[0]) :\n",
    "        if (get_average(tfidf_results[i, :].toarray()[0])) >= get_threshold(tfidf_results) * HANDICAP :\n",
    "                summary += ' ' + documents[i]\n",
    "        i += 1\n",
    "    return summary\n",
    "\n",
    "if __name__ == \"__main__\" :\n",
    "    warnings.filterwarnings(\"ignore\")\n",
    "    \n",
    "    text = input()\n",
    "\n",
    "    print (get_summary(text))"
   ]
  },
  {
   "cell_type": "code",
   "execution_count": 2,
   "metadata": {},
   "outputs": [
    {
     "data": {
      "text/plain": [
       "['get_summary.pkl']"
      ]
     },
     "execution_count": 2,
     "metadata": {},
     "output_type": "execute_result"
    }
   ],
   "source": [
    "import joblib\n",
    "\n",
    "joblib.dump(get_summary, 'get_summary.pkl')\n",
    "\n"
   ]
  },
  {
   "cell_type": "code",
   "execution_count": 3,
   "metadata": {},
   "outputs": [],
   "source": [
    "gs=joblib.load('get_summary.pkl')"
   ]
  },
  {
   "cell_type": "code",
   "execution_count": 4,
   "metadata": {},
   "outputs": [
    {
     "name": "stdout",
     "output_type": "stream",
     "text": [
      "Football is a game that millions of people around the world play and love. It can be called a universal game because every small and big nation plays it.  Moreover, it’s a great relaxer, stress reliever, teacher of discipline and teamwork. Apart from that, it keeps the body and mind fit and healthy. It’s a team game that makes it a more enjoyable game as it teaches people the importance of sportsmanship. Leadership, and unity.  Essay On Football  History of Football The history of football can be traced back to the ancient times of the Greeks. Everyone knows that the Greeks were great sportsmen and have invented many games.  Football happens to one of them. A similar game like football is played in many countries but the latest version of football that we knew originates in England. Likewise, England formulated the first rule of the game. From that day onwards the football has progressed in ways we can’t imagine.  Importance of Football Football is an important game from the point of view of the spectator as well as the player. This 90 minutes game is full of excitement and thrill.  Moreover, it keeps the player mentally and physically healthy, and disciplined. And this ninety-minute game tests their sportsmanship, patience, and tolerance.  Besides, all this you make new friends and develop your talent. Above all, it’s a global game that promotes peace among countries.  Leadership, and unity. Football happens to one of them.\n",
      " Leadership, and unity. Football happens to one of them. Leadership, and unity. Football happens to one of them.\n"
     ]
    }
   ],
   "source": [
    "t=input()\n",
    "print(gs(t))"
   ]
  },
  {
   "cell_type": "code",
   "execution_count": null,
   "metadata": {},
   "outputs": [],
   "source": []
  }
 ],
 "metadata": {
  "kernelspec": {
   "display_name": "Python 3",
   "language": "python",
   "name": "python3"
  },
  "language_info": {
   "codemirror_mode": {
    "name": "ipython",
    "version": 3
   },
   "file_extension": ".py",
   "mimetype": "text/x-python",
   "name": "python",
   "nbconvert_exporter": "python",
   "pygments_lexer": "ipython3",
   "version": "3.8.8"
  }
 },
 "nbformat": 4,
 "nbformat_minor": 4
}
